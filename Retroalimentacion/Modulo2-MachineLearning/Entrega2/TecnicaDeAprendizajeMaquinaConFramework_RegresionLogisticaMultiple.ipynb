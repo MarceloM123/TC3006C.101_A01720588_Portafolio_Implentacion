{
 "cells": [
  {
   "cell_type": "markdown",
   "source": [
    "# Momento de Retroalimentación: Módulo 2 Uso de framework o biblioteca de aprendizaje máquina para la implementación de una solución.\n",
    "**Elaborado por Marcelo Márquez Murillo - A01720588, para la clase TC3006C.101**\n",
    "\n",
    "**Dataset**\n",
    "*Diabetes Healthcare: Comprehensive Dataset*\n",
    "El Instituto Nacional de Diabetes y Enfermedades Digestivas y Renales (NIDDK), es una institución dedicada a la investigación y desarrollo de tratamientos médicos para enfermedades crónicas. Con el propósito de avanzar en la comprensión y predicción de pacientes propensos a padecer diabetes, han establecido una base de datos que recopila información de salud de diversos pacientes, así como su estado de salud en relación con la diabetes. Esta base de datos se emplea para entrenar un modelo de Aprendizaje Automático (Machine Learning) con el fin de mejorar la precisión de los diagnósticos relacionados con esta enfermedad.\n",
    "\n",
    "La base de datos contiene la siguiente información por paciente:\n",
    "* Variables independientes\n",
    "* Pregnancies - número de veces que la paciente se haya embarazado.\n",
    "* Glucose - concentración de glucosa en el cuerpo del paciente.\n",
    "* BloodPressure - Presión arterial del paciente.\n",
    "* SkinThickness - Grosor del pliegue cutáneo del tríceps.\n",
    "* Insulin - Suero de insulina.\n",
    "* BMI - Body Mass Index (Índice de masa corporal).\n",
    "* DiabetesPedigreeFunction - Función del pedigrí de la diabetes\n",
    "* Age - Edad del paciente.\n",
    "* Variable dependiente\n",
    "* Outcome - Variable de clase binaria, 1 representa que el paciente tiene diabetes y 0 significa que no tiene diabetes.\n",
    "\n",
    "Link al dataset: https://www.kaggle.com/datasets/deependraverma13/diabetes-healthcare-comprehensive-dataset?datasetId=3546399&sortBy=voteCount\n",
    "Este dataset tiene la licencia: *Database Contents License (DbCL) v1.0*\n",
    "\n",
    "**Modelo utilizado**\n",
    "La elección del modelo de regresión logística múltiple se fundamenta en su capacidad para manejar eficazmente variables dependientes de naturaleza binaria, como es el caso de nuestro \"Outcome\" que indica la presencia o ausencia de diabetes. Además, este modelo es especialmente apto para interpretar relaciones complejas entre múltiples variables independientes numéricas, como las que se presentan en nuestro conjunto de datos. La regresión logística múltiple no solo proporciona una métrica de probabilidad para la clasificación, sino que también permite una comprensión más profunda de las interacciones entre las variables, lo cual es crucial para la toma de decisiones médicas basadas en datos. Este enfoque se alinea con el objetivo de mejorar la precisión diagnóstica en el ámbito de la atención sanitaria para la diabetes.\n",
    "\n"
   ],
   "metadata": {
    "collapsed": false
   },
   "id": "2bd29187700ac2bb"
  },
  {
   "cell_type": "code",
   "execution_count": 1405,
   "id": "initial_id",
   "metadata": {
    "collapsed": true,
    "ExecuteTime": {
     "end_time": "2023-09-01T02:34:23.629317Z",
     "start_time": "2023-09-01T02:34:23.586665Z"
    }
   },
   "outputs": [],
   "source": [
    "# Importamos las librerías\n",
    "import pandas as pd\n",
    "import matplotlib.pyplot as plt\n",
    "from sklearn.linear_model import LogisticRegression\n",
    "from sklearn.model_selection import train_test_split\n",
    "from sklearn.metrics import confusion_matrix, ConfusionMatrixDisplay\n",
    "from sklearn.metrics import accuracy_score, precision_score, recall_score, f1_score\n",
    "%matplotlib inline"
   ]
  },
  {
   "cell_type": "code",
   "execution_count": 1406,
   "outputs": [],
   "source": [
    "# Leemos el archivo \"health_care_diabetes.csv\"\n",
    "df = pd.read_csv(\"health_care_diabetes.csv\")"
   ],
   "metadata": {
    "collapsed": false,
    "ExecuteTime": {
     "end_time": "2023-09-01T02:34:23.640258Z",
     "start_time": "2023-09-01T02:34:23.594217Z"
    }
   },
   "id": "70953490f9b92d91"
  },
  {
   "cell_type": "markdown",
   "source": [
    "Modificamos los datos faltantes en las columnas \"Glucose\", \"BloodPressure\", \"SkinThickness\", \"Insulin\" y \"BMI\""
   ],
   "metadata": {
    "collapsed": false
   },
   "id": "a40914c5cfe83f1e"
  },
  {
   "cell_type": "code",
   "execution_count": 1407,
   "outputs": [],
   "source": [
    "# Utilizamos la media sin ceros en los valores faltantes de las columnas especificadas\n",
    "mean_glucose = df[df[\"Glucose\"] != 0][\"Glucose\"].mean()\n",
    "df[\"Glucose\"].replace(0, mean_glucose, inplace=True)\n",
    "mean_blood_pressure = df[df[\"BloodPressure\"] != 0][\"BloodPressure\"].mean()\n",
    "df[\"BloodPressure\"].replace(0, mean_blood_pressure, inplace=True)\n",
    "mean_skin_thickness = df[df[\"SkinThickness\"] != 0][\"SkinThickness\"].mean()\n",
    "df[\"SkinThickness\"].replace(0, mean_skin_thickness, inplace=True)\n",
    "mean_insulin = df[df[\"Insulin\"] != 0][\"Insulin\"].mean()\n",
    "df[\"Insulin\"].replace(0, mean_insulin, inplace=True)\n",
    "mean_bmi = df[df[\"BMI\"] != 0][\"BMI\"].mean()\n",
    "df[\"BMI\"].replace(0, mean_bmi, inplace=True)"
   ],
   "metadata": {
    "collapsed": false,
    "ExecuteTime": {
     "end_time": "2023-09-01T02:34:23.640943Z",
     "start_time": "2023-09-01T02:34:23.615392Z"
    }
   },
   "id": "34b4d78c046bb0f"
  },
  {
   "cell_type": "code",
   "execution_count": 1408,
   "outputs": [
    {
     "data": {
      "text/plain": "       Pregnancies     Glucose  BloodPressure  SkinThickness     Insulin  \\\ncount   768.000000  768.000000     768.000000     768.000000  768.000000   \nmean      3.845052  121.686763      72.405184      29.153420  155.548223   \nstd       3.369578   30.435949      12.096346       8.790942   85.021108   \nmin       0.000000   44.000000      24.000000       7.000000   14.000000   \n25%       1.000000   99.750000      64.000000      25.000000  121.500000   \n50%       3.000000  117.000000      72.202592      29.153420  155.548223   \n75%       6.000000  140.250000      80.000000      32.000000  155.548223   \nmax      17.000000  199.000000     122.000000      99.000000  846.000000   \n\n              BMI  DiabetesPedigreeFunction         Age     Outcome  \ncount  768.000000                768.000000  768.000000  768.000000  \nmean    32.457464                  0.471876   33.240885    0.348958  \nstd      6.875151                  0.331329   11.760232    0.476951  \nmin     18.200000                  0.078000   21.000000    0.000000  \n25%     27.500000                  0.243750   24.000000    0.000000  \n50%     32.400000                  0.372500   29.000000    0.000000  \n75%     36.600000                  0.626250   41.000000    1.000000  \nmax     67.100000                  2.420000   81.000000    1.000000  ",
      "text/html": "<div>\n<style scoped>\n    .dataframe tbody tr th:only-of-type {\n        vertical-align: middle;\n    }\n\n    .dataframe tbody tr th {\n        vertical-align: top;\n    }\n\n    .dataframe thead th {\n        text-align: right;\n    }\n</style>\n<table border=\"1\" class=\"dataframe\">\n  <thead>\n    <tr style=\"text-align: right;\">\n      <th></th>\n      <th>Pregnancies</th>\n      <th>Glucose</th>\n      <th>BloodPressure</th>\n      <th>SkinThickness</th>\n      <th>Insulin</th>\n      <th>BMI</th>\n      <th>DiabetesPedigreeFunction</th>\n      <th>Age</th>\n      <th>Outcome</th>\n    </tr>\n  </thead>\n  <tbody>\n    <tr>\n      <th>count</th>\n      <td>768.000000</td>\n      <td>768.000000</td>\n      <td>768.000000</td>\n      <td>768.000000</td>\n      <td>768.000000</td>\n      <td>768.000000</td>\n      <td>768.000000</td>\n      <td>768.000000</td>\n      <td>768.000000</td>\n    </tr>\n    <tr>\n      <th>mean</th>\n      <td>3.845052</td>\n      <td>121.686763</td>\n      <td>72.405184</td>\n      <td>29.153420</td>\n      <td>155.548223</td>\n      <td>32.457464</td>\n      <td>0.471876</td>\n      <td>33.240885</td>\n      <td>0.348958</td>\n    </tr>\n    <tr>\n      <th>std</th>\n      <td>3.369578</td>\n      <td>30.435949</td>\n      <td>12.096346</td>\n      <td>8.790942</td>\n      <td>85.021108</td>\n      <td>6.875151</td>\n      <td>0.331329</td>\n      <td>11.760232</td>\n      <td>0.476951</td>\n    </tr>\n    <tr>\n      <th>min</th>\n      <td>0.000000</td>\n      <td>44.000000</td>\n      <td>24.000000</td>\n      <td>7.000000</td>\n      <td>14.000000</td>\n      <td>18.200000</td>\n      <td>0.078000</td>\n      <td>21.000000</td>\n      <td>0.000000</td>\n    </tr>\n    <tr>\n      <th>25%</th>\n      <td>1.000000</td>\n      <td>99.750000</td>\n      <td>64.000000</td>\n      <td>25.000000</td>\n      <td>121.500000</td>\n      <td>27.500000</td>\n      <td>0.243750</td>\n      <td>24.000000</td>\n      <td>0.000000</td>\n    </tr>\n    <tr>\n      <th>50%</th>\n      <td>3.000000</td>\n      <td>117.000000</td>\n      <td>72.202592</td>\n      <td>29.153420</td>\n      <td>155.548223</td>\n      <td>32.400000</td>\n      <td>0.372500</td>\n      <td>29.000000</td>\n      <td>0.000000</td>\n    </tr>\n    <tr>\n      <th>75%</th>\n      <td>6.000000</td>\n      <td>140.250000</td>\n      <td>80.000000</td>\n      <td>32.000000</td>\n      <td>155.548223</td>\n      <td>36.600000</td>\n      <td>0.626250</td>\n      <td>41.000000</td>\n      <td>1.000000</td>\n    </tr>\n    <tr>\n      <th>max</th>\n      <td>17.000000</td>\n      <td>199.000000</td>\n      <td>122.000000</td>\n      <td>99.000000</td>\n      <td>846.000000</td>\n      <td>67.100000</td>\n      <td>2.420000</td>\n      <td>81.000000</td>\n      <td>1.000000</td>\n    </tr>\n  </tbody>\n</table>\n</div>"
     },
     "execution_count": 1408,
     "metadata": {},
     "output_type": "execute_result"
    }
   ],
   "source": [
    "df.describe()"
   ],
   "metadata": {
    "collapsed": false,
    "ExecuteTime": {
     "end_time": "2023-09-01T02:34:23.643508Z",
     "start_time": "2023-09-01T02:34:23.623217Z"
    }
   },
   "id": "36fe6438d3db00bb"
  },
  {
   "cell_type": "code",
   "execution_count": 1409,
   "outputs": [
    {
     "data": {
      "text/plain": "   Pregnancies  Glucose  BloodPressure  SkinThickness     Insulin   BMI  \\\n0            6    148.0           72.0       35.00000  155.548223  33.6   \n1            1     85.0           66.0       29.00000  155.548223  26.6   \n2            8    183.0           64.0       29.15342  155.548223  23.3   \n3            1     89.0           66.0       23.00000   94.000000  28.1   \n4            0    137.0           40.0       35.00000  168.000000  43.1   \n\n   DiabetesPedigreeFunction  Age  Outcome  \n0                     0.627   50        1  \n1                     0.351   31        0  \n2                     0.672   32        1  \n3                     0.167   21        0  \n4                     2.288   33        1  ",
      "text/html": "<div>\n<style scoped>\n    .dataframe tbody tr th:only-of-type {\n        vertical-align: middle;\n    }\n\n    .dataframe tbody tr th {\n        vertical-align: top;\n    }\n\n    .dataframe thead th {\n        text-align: right;\n    }\n</style>\n<table border=\"1\" class=\"dataframe\">\n  <thead>\n    <tr style=\"text-align: right;\">\n      <th></th>\n      <th>Pregnancies</th>\n      <th>Glucose</th>\n      <th>BloodPressure</th>\n      <th>SkinThickness</th>\n      <th>Insulin</th>\n      <th>BMI</th>\n      <th>DiabetesPedigreeFunction</th>\n      <th>Age</th>\n      <th>Outcome</th>\n    </tr>\n  </thead>\n  <tbody>\n    <tr>\n      <th>0</th>\n      <td>6</td>\n      <td>148.0</td>\n      <td>72.0</td>\n      <td>35.00000</td>\n      <td>155.548223</td>\n      <td>33.6</td>\n      <td>0.627</td>\n      <td>50</td>\n      <td>1</td>\n    </tr>\n    <tr>\n      <th>1</th>\n      <td>1</td>\n      <td>85.0</td>\n      <td>66.0</td>\n      <td>29.00000</td>\n      <td>155.548223</td>\n      <td>26.6</td>\n      <td>0.351</td>\n      <td>31</td>\n      <td>0</td>\n    </tr>\n    <tr>\n      <th>2</th>\n      <td>8</td>\n      <td>183.0</td>\n      <td>64.0</td>\n      <td>29.15342</td>\n      <td>155.548223</td>\n      <td>23.3</td>\n      <td>0.672</td>\n      <td>32</td>\n      <td>1</td>\n    </tr>\n    <tr>\n      <th>3</th>\n      <td>1</td>\n      <td>89.0</td>\n      <td>66.0</td>\n      <td>23.00000</td>\n      <td>94.000000</td>\n      <td>28.1</td>\n      <td>0.167</td>\n      <td>21</td>\n      <td>0</td>\n    </tr>\n    <tr>\n      <th>4</th>\n      <td>0</td>\n      <td>137.0</td>\n      <td>40.0</td>\n      <td>35.00000</td>\n      <td>168.000000</td>\n      <td>43.1</td>\n      <td>2.288</td>\n      <td>33</td>\n      <td>1</td>\n    </tr>\n  </tbody>\n</table>\n</div>"
     },
     "execution_count": 1409,
     "metadata": {},
     "output_type": "execute_result"
    }
   ],
   "source": [
    "df.head(5)"
   ],
   "metadata": {
    "collapsed": false,
    "ExecuteTime": {
     "end_time": "2023-09-01T02:34:23.648354Z",
     "start_time": "2023-09-01T02:34:23.645186Z"
    }
   },
   "id": "fdcac314a84c65a9"
  },
  {
   "cell_type": "markdown",
   "source": [
    "## Entrenamiento de los modelos"
   ],
   "metadata": {
    "collapsed": false
   },
   "id": "55ae1481e0e4ed4d"
  },
  {
   "cell_type": "markdown",
   "source": [
    "### Primer entrenamiento y predicción (Configuración 1)\n",
    "\n",
    "Para nuestro primer intento, utilizaremos los datos ya modificados"
   ],
   "metadata": {
    "collapsed": false
   },
   "id": "fe183c2507318486"
  },
  {
   "cell_type": "code",
   "execution_count": 1410,
   "outputs": [
    {
     "name": "stdout",
     "output_type": "stream",
     "text": [
      "166\n",
      "294\n"
     ]
    }
   ],
   "source": [
    "# Conseguimos las variables independientes\n",
    "X1 = df.drop(\"Outcome\", axis=1)\n",
    "# Conseguimos la variable dependiente\n",
    "y1 = df[\"Outcome\"]\n",
    "\n",
    "# Dividimos los datos para tener la sección de entrenamiento y la sección de prueba\n",
    "X1_train, X1_test, y1_train, y1_test = train_test_split(X1, y1, train_size=0.6, test_size=0.4, random_state=42)\n",
    "print((y1_train == 1).sum())\n",
    "print((y1_train == 0).sum())"
   ],
   "metadata": {
    "collapsed": false,
    "ExecuteTime": {
     "end_time": "2023-09-01T02:34:23.666938Z",
     "start_time": "2023-09-01T02:34:23.654160Z"
    }
   },
   "id": "b95e999bdf49912b"
  },
  {
   "cell_type": "code",
   "execution_count": 1411,
   "outputs": [
    {
     "name": "stdout",
     "output_type": "stream",
     "text": [
      "Matriz de confusión:\n"
     ]
    },
    {
     "data": {
      "text/plain": "<Figure size 640x480 with 2 Axes>",
      "image/png": "[encoded data removed]"
     },
     "metadata": {},
     "output_type": "display_data"
    },
    {
     "name": "stdout",
     "output_type": "stream",
     "text": [
      "Métricas:\n",
      "Accuracy score: 0.77\n",
      "Precision score: 0.66\n",
      "Recall score: 0.6\n",
      "F1 score: 0.63\n"
     ]
    }
   ],
   "source": [
    "model1 = LogisticRegression(max_iter=100000, solver=\"liblinear\", random_state=42, C=1)\n",
    "model1.fit(X1_train, y1_train)\n",
    "\n",
    "y1_prediction = model1.predict(X1_test)\n",
    "print(\"Matriz de confusión:\\n\")\n",
    "disp = ConfusionMatrixDisplay(confusion_matrix=confusion_matrix(y1_test, y1_prediction))\n",
    "disp.plot()\n",
    "plt.show()\n",
    "print(f\"Métricas:\")\n",
    "print(f\"Accuracy score: {round(accuracy_score(y1_test, y1_prediction), 2)}\")\n",
    "print(f\"Precision score: {round(precision_score(y1_test, y1_prediction), 2)}\")\n",
    "print(f\"Recall score: {round(recall_score(y1_test, y1_prediction), 2)}\")\n",
    "print(f\"F1 score: {round(f1_score(y1_test, y1_prediction), 2)}\")"
   ],
   "metadata": {
    "collapsed": false,
    "ExecuteTime": {
     "end_time": "2023-09-01T02:34:23.771394Z",
     "start_time": "2023-09-01T02:34:23.659933Z"
    }
   },
   "id": "6070ff5efaade33a"
  },
  {
   "cell_type": "markdown",
   "source": [
    "### Segundo entrenamiento y predicción (Configuración 2)\n",
    "\n",
    "Para nuestro segundo intento, utilizaremos los datos ya modificados al igual que también conseguimos la misma cantidad de clases para el entrenamiento (1 y 0), para la prueba se utilizaran todos los datos."
   ],
   "metadata": {
    "collapsed": false
   },
   "id": "ed361e388c2eb114"
  },
  {
   "cell_type": "code",
   "execution_count": 1412,
   "outputs": [
    {
     "name": "stdout",
     "output_type": "stream",
     "text": [
      "139\n",
      "129\n"
     ]
    }
   ],
   "source": [
    "# Conseguimos las variables independientes\n",
    "X2 = df.drop(\"Outcome\", axis=1)\n",
    "# Conseguimos la variable dependiente\n",
    "y2 = df[\"Outcome\"]\n",
    "\n",
    "# Conseguimos la suma de 1s y 0s\n",
    "sum_ones = (df[\"Outcome\"] == 1).sum()\n",
    "sum_zeros = (df[\"Outcome\"] == 0).sum()\n",
    "sample_total = sum_ones if sum_ones < sum_zeros else sum_zeros\n",
    "\n",
    "# A partir de esto modificamos la df para conseguir 268 renglones con un \"Outcome\" de 1 y 268 de 0\n",
    "df_ones = df[df[\"Outcome\"] == 1].sample(n=sample_total)\n",
    "df_zeros = df[df[\"Outcome\"] == 0].sample(n=sample_total)\n",
    "df2 = pd.concat([df_ones, df_zeros]).reset_index(drop=True)\n",
    "df2 = df2.sample(frac=1, random_state=1).reset_index(drop=True)\n",
    "\n",
    "# Conseguimos las variables independientes\n",
    "X2 = df2.drop(\"Outcome\", axis=1)\n",
    "y2 = df2[\"Outcome\"]\n",
    "\n",
    "# Dividimos los datos para tener la sección de entrenamiento y utilizamos los datos enteros para prueba\n",
    "# Utilizamos stratify para asegurar un balance de clases en ambos los datos de entrenamiento y prueba\n",
    "X2_train, X2_test, y2_train, y2_test = train_test_split(X2, y2, train_size=0.5, test_size=0.5, random_state=42)\n",
    "print((y2_train == 1).sum())\n",
    "print((y2_train == 0).sum())"
   ],
   "metadata": {
    "collapsed": false,
    "ExecuteTime": {
     "end_time": "2023-09-01T02:34:23.779192Z",
     "start_time": "2023-09-01T02:34:23.774692Z"
    }
   },
   "id": "6777f9bdf5e47c89"
  },
  {
   "cell_type": "code",
   "execution_count": 1413,
   "outputs": [
    {
     "name": "stdout",
     "output_type": "stream",
     "text": [
      "Matriz de confusión:\n"
     ]
    },
    {
     "data": {
      "text/plain": "<Figure size 640x480 with 2 Axes>",
      "image/png": "[encoded data removed]"
     },
     "metadata": {},
     "output_type": "display_data"
    },
    {
     "name": "stdout",
     "output_type": "stream",
     "text": [
      "Métricas:\n",
      "Accuracy score: 0.79\n",
      "Precision score: 0.85\n",
      "Recall score: 0.68\n",
      "F1 score: 0.76\n"
     ]
    }
   ],
   "source": [
    "model2 = LogisticRegression(max_iter=100000, solver=\"liblinear\", random_state=42, C=0.6, tol=1e-7, penalty=\"l1\")\n",
    "model2.fit(X2_train, y2_train)\n",
    "\n",
    "y2_prediction = model2.predict(X2_test)\n",
    "print(\"Matriz de confusión:\\n\")\n",
    "disp = ConfusionMatrixDisplay(confusion_matrix=confusion_matrix(y2_test, y2_prediction))\n",
    "disp.plot()\n",
    "plt.show()\n",
    "print(f\"Métricas:\")\n",
    "print(f\"Accuracy score: {round(accuracy_score(y2_test, y2_prediction), 2)}\")\n",
    "print(f\"Precision score: {round(precision_score(y2_test, y2_prediction), 2)}\")\n",
    "print(f\"Recall score: {round(recall_score(y2_test, y2_prediction), 2)}\")\n",
    "print(f\"F1 score: {round(f1_score(y2_test, y2_prediction), 2)}\")"
   ],
   "metadata": {
    "collapsed": false,
    "ExecuteTime": {
     "end_time": "2023-09-01T02:34:23.866814Z",
     "start_time": "2023-09-01T02:34:23.782052Z"
    }
   },
   "id": "2c3e7f8416f520dc"
  },
  {
   "cell_type": "markdown",
   "source": [
    "### Tercer entrenamiento y predicción (Configuración 3)\n",
    "\n",
    "Para nuestro tercer intento, utilizaremos los datos transformados"
   ],
   "metadata": {
    "collapsed": false
   },
   "id": "fc910ec6d97f85cd"
  },
  {
   "cell_type": "code",
   "execution_count": 1414,
   "outputs": [],
   "source": [
    "# Conseguimos las variables independientes\n",
    "X3 = df.drop(\"Outcome\", axis=1)\n",
    "# Conseguimos la variable dependiente\n",
    "y3 = df[\"Outcome\"]\n",
    "\n",
    "X3_train, X3_test, y3_train, y3_test = train_test_split(X3, y3, train_size=0.7, test_size=0.3, random_state=42, stratify=y3)"
   ],
   "metadata": {
    "collapsed": false,
    "ExecuteTime": {
     "end_time": "2023-09-01T02:34:23.872767Z",
     "start_time": "2023-09-01T02:34:23.869082Z"
    }
   },
   "id": "a2e663e36d092247"
  },
  {
   "cell_type": "code",
   "execution_count": 1415,
   "outputs": [
    {
     "name": "stdout",
     "output_type": "stream",
     "text": [
      "Matriz de confusión:\n"
     ]
    },
    {
     "data": {
      "text/plain": "<Figure size 640x480 with 2 Axes>",
      "image/png": "[encoded data removed]"
     },
     "metadata": {},
     "output_type": "display_data"
    },
    {
     "name": "stdout",
     "output_type": "stream",
     "text": [
      "Métricas:\n",
      "Accuracy score: 0.74\n",
      "Precision score: 0.66\n",
      "Recall score: 0.53\n",
      "F1 score: 0.59\n"
     ]
    }
   ],
   "source": [
    "model3 = LogisticRegression(max_iter=1000000, solver=\"lbfgs\", random_state=42, C=0.8, tol=1e-5)\n",
    "model3.fit(X3_train, y3_train)\n",
    "\n",
    "y3_prediction = model3.predict(X3_test)\n",
    "print(\"Matriz de confusión:\\n\")\n",
    "disp = ConfusionMatrixDisplay(confusion_matrix=confusion_matrix(y3_test, y3_prediction))\n",
    "disp.plot()\n",
    "plt.show()\n",
    "print(f\"Métricas:\")\n",
    "print(f\"Accuracy score: {round(accuracy_score(y3_test, y3_prediction), 2)}\")\n",
    "print(f\"Precision score: {round(precision_score(y3_test, y3_prediction), 2)}\")\n",
    "print(f\"Recall score: {round(recall_score(y3_test, y3_prediction), 2)}\")\n",
    "print(f\"F1 score: {round(f1_score(y3_test, y3_prediction), 2)}\")"
   ],
   "metadata": {
    "collapsed": false,
    "ExecuteTime": {
     "end_time": "2023-09-01T02:34:23.955386Z",
     "start_time": "2023-09-01T02:34:23.875525Z"
    }
   },
   "id": "238fdaf1a177c8df"
  },
  {
   "cell_type": "markdown",
   "source": [
    "## Comparación de modelos y sus métricas"
   ],
   "metadata": {
    "collapsed": false
   },
   "id": "7dc34caf06c13de8"
  },
  {
   "cell_type": "markdown",
   "source": [
    "### Configuración 1:\n",
    "* División de datos: 60% entrenamiento y 40% prueba\n",
    "* Solver: Liblinear\n",
    "* Regularization Strength: 1\n",
    "* Max Iterations: 100,000\n",
    "* Tolerance (tol): Default\n",
    "* Penalty: Default (l2)\n",
    "\n",
    "### Configuración 2:\n",
    "* Division de datos: 50% entrenamiento y 50% prueba\n",
    "* Solver: liblinear\n",
    "* Regularization Strength: 0.5\n",
    "* Max Iterations: 100,000\n",
    "* Tolerance (tol): 1e-4\n",
    "* Penalty: l1\n",
    "* Balance de clases: Se balancearon los datos utilizando \"under-sampling\".\n",
    "\n",
    "### Configuración 3:\n",
    "* División de datos: 70% entrenamiento y 30%\n",
    "* Solver: lbfgs\n",
    "* Regularization Strength: 0.8\n",
    "* Max Iterations: 1,000,000\n",
    "* Tolerance (tol): 1e-5\n",
    "* Penalty: Default (l2)\n",
    "* Balance de clases: Se utilizó \"stratify\" en train_test_split para dividir los datos por la misma cantidad de 0's y 1's\n",
    "\n",
    "### Diferencias clave:\n",
    "* La división de los datos cambia por un 10% en las configuraciones (C1 - 60%, C2 - 50% y C3 - 70%), esto causa que cada modelo reciba una diferente cantidad de datos para entrenar lo cual puede afectar el rendimiento y posiblemente causar *overfitting*.\n",
    "* Con solver, normalmente la más popular é útil para un dataset con pocos datos (como en nuestro caso que máximo tenemos menos de 700 renglones en X_train de cada configuración) el uso de \"liblinear\" pero \"lbfgs\" también funciona por la cantidad de datos como mencionado. \n",
    "* Cada configuración utilizó un diferente valor de Fuerza de Regulación (C1 - 1, C2 - 0.6 y C3 - 0.8), en el caso de C2, el tener un valor más chico puede ayudar contra un caso de *overfitting*.\n",
    "* Con la tolerancia, el cual determina el criterio de parada para el algoritmo, también tiene valores diferentes por configuración (C1 - 1e-4, C2 - 1e-7, 1e-5), tener una tolerancia más baja (como C2 y C3) puede ayudar dado a la poca cantidad de datos que tienen.\n",
    "*  Ambos C1 y C3 utilizan un *penalty* default de l2 (Regulación Ridge) mientras que el C3 es l1 (Regulación Lasso). El uso de l1 para la C2 apoya con prevenir *overfitting*. "
   ],
   "metadata": {
    "collapsed": false
   },
   "id": "77a3c357e576b87f"
  }
 ],
 "metadata": {
  "kernelspec": {
   "display_name": "Python 3",
   "language": "python",
   "name": "python3"
  },
  "language_info": {
   "codemirror_mode": {
    "name": "ipython",
    "version": 2
   },
   "file_extension": ".py",
   "mimetype": "text/x-python",
   "name": "python",
   "nbconvert_exporter": "python",
   "pygments_lexer": "ipython2",
   "version": "2.7.6"
  }
 },
 "nbformat": 4,
 "nbformat_minor": 5
}
